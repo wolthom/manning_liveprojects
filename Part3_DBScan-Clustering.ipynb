{
 "cells": [
  {
   "cell_type": "code",
   "execution_count": 1,
   "id": "e2235b80-6dfb-41ff-814a-7f06306b7abb",
   "metadata": {},
   "outputs": [],
   "source": [
    "using DataFrames\n",
    "using Arrow\n",
    "using Statistics\n",
    "using Clustering\n",
    "using Distances\n",
    "using Plots\n",
    "using Chain\n",
    "using FreqTables\n",
    "using StatsBase"
   ]
  },
  {
   "cell_type": "code",
   "execution_count": 10,
   "id": "72e4406c-3497-4bfc-bc4e-6edb1bd2b6d1",
   "metadata": {},
   "outputs": [],
   "source": [
    "ENV[\"COLUMNS\"] = 1200\n",
    "ENV[\"LINES\"] = 20\n",
    "sales = DataFrame(Arrow.Table(\"./data/sales_norm.arrow\"))\n",
    "assignments = open(\"./data/assignments.txt\", \"r\") do io\n",
    "    parse.(Int64, collect(eachline(io)))\n",
    "end;"
   ]
  },
  {
   "cell_type": "code",
   "execution_count": 24,
   "id": "8924ad71-3d0d-45d3-86c3-f2b61554b717",
   "metadata": {},
   "outputs": [],
   "source": [
    "sales_mat = Matrix(sales);"
   ]
  },
  {
   "cell_type": "code",
   "execution_count": 25,
   "id": "04d145d3-ce1d-45a6-b994-4377a44ee373",
   "metadata": {},
   "outputs": [],
   "source": [
    "dist_mat = pairwise(Euclidean(), sales_mat, dims=2);"
   ]
  },
  {
   "cell_type": "code",
   "execution_count": 32,
   "id": "36a31897-a860-406e-98d8-c0019c968876",
   "metadata": {},
   "outputs": [],
   "source": [
    "helper(eps, minpts) = dbscan(dist_mat, eps, minpts)\n",
    "eps_opts = 20.0:0.5:70.0\n",
    "minpts = 1:1:6\n",
    "dbscan_results = [helper(eps, minpts) for (eps, minpts) in Iterators.product(eps_opts, minpts)];"
   ]
  },
  {
   "cell_type": "code",
   "execution_count": null,
   "id": "627f81f1-912c-419f-970b-0cc6048637de",
   "metadata": {},
   "outputs": [],
   "source": []
  }
 ],
 "metadata": {
  "kernelspec": {
   "display_name": "Julia 1.6.3",
   "language": "julia",
   "name": "julia-1.6"
  },
  "language_info": {
   "file_extension": ".jl",
   "mimetype": "application/julia",
   "name": "julia",
   "version": "1.6.3"
  }
 },
 "nbformat": 4,
 "nbformat_minor": 5
}
