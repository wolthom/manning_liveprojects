{
 "cells": [
  {
   "cell_type": "code",
   "execution_count": 1,
   "id": "24b971eb-1f8a-463b-a676-432da7f7f9ac",
   "metadata": {},
   "outputs": [
    {
     "name": "stderr",
     "output_type": "stream",
     "text": [
      "\u001b[32m\u001b[1m  Activating\u001b[22m\u001b[39m environment at `~/Desktop/manning-liveprojects/hands-on-datascience-with-julia/data-pre-processing/Project.toml`\n"
     ]
    }
   ],
   "source": [
    "using Pkg\n",
    "Pkg.activate(\".\")"
   ]
  },
  {
   "cell_type": "code",
   "execution_count": 2,
   "id": "982f9363-b263-4f1c-8af8-a7d78c5294cd",
   "metadata": {},
   "outputs": [],
   "source": [
    "using Downloads\n",
    "using SHA\n",
    "using DataFrames\n",
    "using CSV\n",
    "using FreqTables\n",
    "using Plots\n",
    "using StatsBase\n",
    "using Statistics\n",
    "using Arrow"
   ]
  },
  {
   "cell_type": "code",
   "execution_count": 3,
   "id": "a4fe1789-c3ab-4c97-b355-898ec666a8ed",
   "metadata": {},
   "outputs": [],
   "source": [
    "# Project constants\n",
    "url = \"https://archive.ics.uci.edu/ml/machine-learning-databases/adult/adult.data\"\n",
    "file_name = \"./data/adult.data\"\n",
    "file_sha1 = UInt8[\n",
    "    0xee, 0x86, 0xbb, 0xe5, 0x56,\n",
    "    0x57, 0x8f, 0x70, 0x9a, 0xe0,\n",
    "    0xfd, 0x00, 0x2a, 0xc5, 0x8a,\n",
    "    0xc9, 0x37, 0x26, 0x48, 0x2f\n",
    "];"
   ]
  },
  {
   "cell_type": "code",
   "execution_count": 4,
   "id": "aac4a329-ba60-4f20-9abd-5abd21cc17f3",
   "metadata": {},
   "outputs": [
    {
     "name": "stderr",
     "output_type": "stream",
     "text": [
      "┌ Info: ./data/adult.data found. Skipping download.\n",
      "└ @ Main In[4]:10\n"
     ]
    }
   ],
   "source": [
    "# Create 'data' directory if it doesn't exist\n",
    "data_dir = dirname(file_name)\n",
    "if !isdir(data_dir)\n",
    "    @info \"Data directory: $data_dir does not exist. Creating...\"\n",
    "    mkpath(data_dir)\n",
    "end\n",
    "\n",
    "# Download Boston Housing data if not exists\n",
    "if isfile(file_name)\n",
    "    @info \"$file_name found. Skipping download.\"\n",
    "else\n",
    "    @info \"$file_name not found. Fetching from source.\"\n",
    "    Downloads.download(url, file_name)\n",
    "end"
   ]
  },
  {
   "cell_type": "code",
   "execution_count": 5,
   "id": "cf0971bb-3a21-4912-a2f9-353ba0d60209",
   "metadata": {},
   "outputs": [
    {
     "name": "stderr",
     "output_type": "stream",
     "text": [
      "┌ Info: SHA1 check of ./data/adult.data passed.\n",
      "└ @ Main In[5]:3\n"
     ]
    }
   ],
   "source": [
    "# Check SHA1 of Boston Housing file\n",
    "if file_sha1 == open(sha1, file_name)\n",
    "    @info \"SHA1 check of $file_name passed.\"\n",
    "else\n",
    "    error(\"$file_name file has an invalid SHA1. Aborting!\")\n",
    "end"
   ]
  },
  {
   "cell_type": "code",
   "execution_count": 17,
   "id": "95ab8e01-3d6f-4d13-a8b8-3c85d3d4dfbf",
   "metadata": {},
   "outputs": [],
   "source": [
    "col_names = [\n",
    "    :age, :workclass, :fnlwgt, :education, :education_num, :marital_status,\n",
    "    :occupation, :relationship, :race, :sex, :capital_gain, :capital_loss,\n",
    "    :hours_per_week, :native_country, :target,\n",
    "];\n",
    "adult_raw = CSV.read(file_name, DataFrame, header=col_names, delim=\", \", missingstring=\"?\")\n",
    "adult = copy(adult_raw)\n",
    "# Print up to 200 columns and 20 rows by default\n",
    "ENV[\"COLUMNS\"] = 200\n",
    "ENV[\"LINES\"] = 20;"
   ]
  },
  {
   "cell_type": "code",
   "execution_count": 18,
   "id": "9f0e71f8-7bf0-4190-b805-5d00ab08aa1a",
   "metadata": {},
   "outputs": [
    {
     "data": {
      "text/html": [
       "<div class=\"data-frame\"><p>32,561 rows × 14 columns (omitted printing of 1 columns)</p><table class=\"data-frame\"><thead><tr><th></th><th>age</th><th>workclass</th><th>education</th><th>education_num</th><th>marital_status</th><th>occupation</th><th>relationship</th><th>race</th><th>sex</th><th>capital_gain</th><th>capital_loss</th><th>hours_per_week</th><th>native_country</th></tr><tr><th></th><th title=\"Int64\">Int64</th><th title=\"Union{Missing, String31}\">String31?</th><th title=\"String15\">String15</th><th title=\"Int64\">Int64</th><th title=\"String31\">String31</th><th title=\"Union{Missing, String31}\">String31?</th><th title=\"String15\">String15</th><th title=\"String31\">String31</th><th title=\"String7\">String7</th><th title=\"Int64\">Int64</th><th title=\"Int64\">Int64</th><th title=\"Int64\">Int64</th><th title=\"Union{Missing, String31}\">String31?</th></tr></thead><tbody><tr><th>1</th><td>39</td><td>State-gov</td><td>Bachelors</td><td>13</td><td>Never-married</td><td>Adm-clerical</td><td>Not-in-family</td><td>White</td><td>Male</td><td>2174</td><td>0</td><td>40</td><td>United-States</td></tr><tr><th>2</th><td>50</td><td>Self-emp-not-inc</td><td>Bachelors</td><td>13</td><td>Married-civ-spouse</td><td>Exec-managerial</td><td>Husband</td><td>White</td><td>Male</td><td>0</td><td>0</td><td>13</td><td>United-States</td></tr><tr><th>3</th><td>38</td><td>Private</td><td>HS-grad</td><td>9</td><td>Divorced</td><td>Handlers-cleaners</td><td>Not-in-family</td><td>White</td><td>Male</td><td>0</td><td>0</td><td>40</td><td>United-States</td></tr><tr><th>4</th><td>53</td><td>Private</td><td>11th</td><td>7</td><td>Married-civ-spouse</td><td>Handlers-cleaners</td><td>Husband</td><td>Black</td><td>Male</td><td>0</td><td>0</td><td>40</td><td>United-States</td></tr><tr><th>5</th><td>28</td><td>Private</td><td>Bachelors</td><td>13</td><td>Married-civ-spouse</td><td>Prof-specialty</td><td>Wife</td><td>Black</td><td>Female</td><td>0</td><td>0</td><td>40</td><td>Cuba</td></tr><tr><th>6</th><td>37</td><td>Private</td><td>Masters</td><td>14</td><td>Married-civ-spouse</td><td>Exec-managerial</td><td>Wife</td><td>White</td><td>Female</td><td>0</td><td>0</td><td>40</td><td>United-States</td></tr><tr><th>7</th><td>49</td><td>Private</td><td>9th</td><td>5</td><td>Married-spouse-absent</td><td>Other-service</td><td>Not-in-family</td><td>Black</td><td>Female</td><td>0</td><td>0</td><td>16</td><td>Jamaica</td></tr><tr><th>8</th><td>52</td><td>Self-emp-not-inc</td><td>HS-grad</td><td>9</td><td>Married-civ-spouse</td><td>Exec-managerial</td><td>Husband</td><td>White</td><td>Male</td><td>0</td><td>0</td><td>45</td><td>United-States</td></tr><tr><th>9</th><td>31</td><td>Private</td><td>Masters</td><td>14</td><td>Never-married</td><td>Prof-specialty</td><td>Not-in-family</td><td>White</td><td>Female</td><td>14084</td><td>0</td><td>50</td><td>United-States</td></tr><tr><th>10</th><td>42</td><td>Private</td><td>Bachelors</td><td>13</td><td>Married-civ-spouse</td><td>Exec-managerial</td><td>Husband</td><td>White</td><td>Male</td><td>5178</td><td>0</td><td>40</td><td>United-States</td></tr><tr><th>11</th><td>37</td><td>Private</td><td>Some-college</td><td>10</td><td>Married-civ-spouse</td><td>Exec-managerial</td><td>Husband</td><td>Black</td><td>Male</td><td>0</td><td>0</td><td>80</td><td>United-States</td></tr><tr><th>12</th><td>30</td><td>State-gov</td><td>Bachelors</td><td>13</td><td>Married-civ-spouse</td><td>Prof-specialty</td><td>Husband</td><td>Asian-Pac-Islander</td><td>Male</td><td>0</td><td>0</td><td>40</td><td>India</td></tr><tr><th>13</th><td>23</td><td>Private</td><td>Bachelors</td><td>13</td><td>Never-married</td><td>Adm-clerical</td><td>Own-child</td><td>White</td><td>Female</td><td>0</td><td>0</td><td>30</td><td>United-States</td></tr><tr><th>14</th><td>32</td><td>Private</td><td>Assoc-acdm</td><td>12</td><td>Never-married</td><td>Sales</td><td>Not-in-family</td><td>Black</td><td>Male</td><td>0</td><td>0</td><td>50</td><td>United-States</td></tr><tr><th>15</th><td>40</td><td>Private</td><td>Assoc-voc</td><td>11</td><td>Married-civ-spouse</td><td>Craft-repair</td><td>Husband</td><td>Asian-Pac-Islander</td><td>Male</td><td>0</td><td>0</td><td>40</td><td><em>missing</em></td></tr><tr><th>16</th><td>34</td><td>Private</td><td>7th-8th</td><td>4</td><td>Married-civ-spouse</td><td>Transport-moving</td><td>Husband</td><td>Amer-Indian-Eskimo</td><td>Male</td><td>0</td><td>0</td><td>45</td><td>Mexico</td></tr><tr><th>17</th><td>25</td><td>Self-emp-not-inc</td><td>HS-grad</td><td>9</td><td>Never-married</td><td>Farming-fishing</td><td>Own-child</td><td>White</td><td>Male</td><td>0</td><td>0</td><td>35</td><td>United-States</td></tr><tr><th>18</th><td>32</td><td>Private</td><td>HS-grad</td><td>9</td><td>Never-married</td><td>Machine-op-inspct</td><td>Unmarried</td><td>White</td><td>Male</td><td>0</td><td>0</td><td>40</td><td>United-States</td></tr><tr><th>19</th><td>38</td><td>Private</td><td>11th</td><td>7</td><td>Married-civ-spouse</td><td>Sales</td><td>Husband</td><td>White</td><td>Male</td><td>0</td><td>0</td><td>50</td><td>United-States</td></tr><tr><th>20</th><td>43</td><td>Self-emp-not-inc</td><td>Masters</td><td>14</td><td>Divorced</td><td>Exec-managerial</td><td>Unmarried</td><td>White</td><td>Female</td><td>0</td><td>0</td><td>45</td><td>United-States</td></tr><tr><th>&vellip;</th><td>&vellip;</td><td>&vellip;</td><td>&vellip;</td><td>&vellip;</td><td>&vellip;</td><td>&vellip;</td><td>&vellip;</td><td>&vellip;</td><td>&vellip;</td><td>&vellip;</td><td>&vellip;</td><td>&vellip;</td><td>&vellip;</td></tr></tbody></table></div>"
      ],
      "text/latex": [
       "\\begin{tabular}{r|cccccccccccccc}\n",
       "\t& age & workclass & education & education\\_num & marital\\_status & occupation & relationship & race & sex & capital\\_gain & capital\\_loss & hours\\_per\\_week & native\\_country & \\\\\n",
       "\t\\hline\n",
       "\t& Int64 & String31? & String15 & Int64 & String31 & String31? & String15 & String31 & String7 & Int64 & Int64 & Int64 & String31? & \\\\\n",
       "\t\\hline\n",
       "\t1 & 39 & State-gov & Bachelors & 13 & Never-married & Adm-clerical & Not-in-family & White & Male & 2174 & 0 & 40 & United-States & $\\dots$ \\\\\n",
       "\t2 & 50 & Self-emp-not-inc & Bachelors & 13 & Married-civ-spouse & Exec-managerial & Husband & White & Male & 0 & 0 & 13 & United-States & $\\dots$ \\\\\n",
       "\t3 & 38 & Private & HS-grad & 9 & Divorced & Handlers-cleaners & Not-in-family & White & Male & 0 & 0 & 40 & United-States & $\\dots$ \\\\\n",
       "\t4 & 53 & Private & 11th & 7 & Married-civ-spouse & Handlers-cleaners & Husband & Black & Male & 0 & 0 & 40 & United-States & $\\dots$ \\\\\n",
       "\t5 & 28 & Private & Bachelors & 13 & Married-civ-spouse & Prof-specialty & Wife & Black & Female & 0 & 0 & 40 & Cuba & $\\dots$ \\\\\n",
       "\t6 & 37 & Private & Masters & 14 & Married-civ-spouse & Exec-managerial & Wife & White & Female & 0 & 0 & 40 & United-States & $\\dots$ \\\\\n",
       "\t7 & 49 & Private & 9th & 5 & Married-spouse-absent & Other-service & Not-in-family & Black & Female & 0 & 0 & 16 & Jamaica & $\\dots$ \\\\\n",
       "\t8 & 52 & Self-emp-not-inc & HS-grad & 9 & Married-civ-spouse & Exec-managerial & Husband & White & Male & 0 & 0 & 45 & United-States & $\\dots$ \\\\\n",
       "\t9 & 31 & Private & Masters & 14 & Never-married & Prof-specialty & Not-in-family & White & Female & 14084 & 0 & 50 & United-States & $\\dots$ \\\\\n",
       "\t10 & 42 & Private & Bachelors & 13 & Married-civ-spouse & Exec-managerial & Husband & White & Male & 5178 & 0 & 40 & United-States & $\\dots$ \\\\\n",
       "\t11 & 37 & Private & Some-college & 10 & Married-civ-spouse & Exec-managerial & Husband & Black & Male & 0 & 0 & 80 & United-States & $\\dots$ \\\\\n",
       "\t12 & 30 & State-gov & Bachelors & 13 & Married-civ-spouse & Prof-specialty & Husband & Asian-Pac-Islander & Male & 0 & 0 & 40 & India & $\\dots$ \\\\\n",
       "\t13 & 23 & Private & Bachelors & 13 & Never-married & Adm-clerical & Own-child & White & Female & 0 & 0 & 30 & United-States & $\\dots$ \\\\\n",
       "\t14 & 32 & Private & Assoc-acdm & 12 & Never-married & Sales & Not-in-family & Black & Male & 0 & 0 & 50 & United-States & $\\dots$ \\\\\n",
       "\t15 & 40 & Private & Assoc-voc & 11 & Married-civ-spouse & Craft-repair & Husband & Asian-Pac-Islander & Male & 0 & 0 & 40 & \\emph{missing} & $\\dots$ \\\\\n",
       "\t16 & 34 & Private & 7th-8th & 4 & Married-civ-spouse & Transport-moving & Husband & Amer-Indian-Eskimo & Male & 0 & 0 & 45 & Mexico & $\\dots$ \\\\\n",
       "\t17 & 25 & Self-emp-not-inc & HS-grad & 9 & Never-married & Farming-fishing & Own-child & White & Male & 0 & 0 & 35 & United-States & $\\dots$ \\\\\n",
       "\t18 & 32 & Private & HS-grad & 9 & Never-married & Machine-op-inspct & Unmarried & White & Male & 0 & 0 & 40 & United-States & $\\dots$ \\\\\n",
       "\t19 & 38 & Private & 11th & 7 & Married-civ-spouse & Sales & Husband & White & Male & 0 & 0 & 50 & United-States & $\\dots$ \\\\\n",
       "\t20 & 43 & Self-emp-not-inc & Masters & 14 & Divorced & Exec-managerial & Unmarried & White & Female & 0 & 0 & 45 & United-States & $\\dots$ \\\\\n",
       "\t$\\dots$ & $\\dots$ & $\\dots$ & $\\dots$ & $\\dots$ & $\\dots$ & $\\dots$ & $\\dots$ & $\\dots$ & $\\dots$ & $\\dots$ & $\\dots$ & $\\dots$ & $\\dots$ &  \\\\\n",
       "\\end{tabular}\n"
      ],
      "text/plain": [
       "\u001b[1m32561×14 DataFrame\u001b[0m\n",
       "\u001b[1m   Row \u001b[0m│\u001b[1m age   \u001b[0m\u001b[1m workclass        \u001b[0m\u001b[1m education    \u001b[0m\u001b[1m education_num \u001b[0m\u001b[1m marital_status        \u001b[0m\u001b[1m occupation        \u001b[0m\u001b[1m relationship  \u001b[0m\u001b[1m race               \u001b[0m\u001b[1m sex     \u001b[0m\u001b[1m capital_gain \u001b[0m\u001b[1m capital_loss \u001b[0m\u001b[1m hours_per_week \u001b[0m\u001b[1m nativ\u001b[0m ⋯\n",
       "\u001b[1m       \u001b[0m│\u001b[90m Int64 \u001b[0m\u001b[90m String31?        \u001b[0m\u001b[90m String15     \u001b[0m\u001b[90m Int64         \u001b[0m\u001b[90m String31              \u001b[0m\u001b[90m String31?         \u001b[0m\u001b[90m String15      \u001b[0m\u001b[90m String31           \u001b[0m\u001b[90m String7 \u001b[0m\u001b[90m Int64        \u001b[0m\u001b[90m Int64        \u001b[0m\u001b[90m Int64          \u001b[0m\u001b[90m Strin\u001b[0m ⋯\n",
       "───────┼────────────────────────────────────────────────────────────────────────────────────────────────────────────────────────────────────────────────────────────────────────────────────────────────\n",
       "     1 │    39  State-gov         Bachelors                13  Never-married          Adm-clerical       Not-in-family  White               Male             2174             0              40  Unite ⋯\n",
       "     2 │    50  Self-emp-not-inc  Bachelors                13  Married-civ-spouse     Exec-managerial    Husband        White               Male                0             0              13  Unite\n",
       "     3 │    38  Private           HS-grad                   9  Divorced               Handlers-cleaners  Not-in-family  White               Male                0             0              40  Unite\n",
       "     4 │    53  Private           11th                      7  Married-civ-spouse     Handlers-cleaners  Husband        Black               Male                0             0              40  Unite\n",
       "     5 │    28  Private           Bachelors                13  Married-civ-spouse     Prof-specialty     Wife           Black               Female              0             0              40  Cuba  ⋯\n",
       "     6 │    37  Private           Masters                  14  Married-civ-spouse     Exec-managerial    Wife           White               Female              0             0              40  Unite\n",
       "   ⋮   │   ⋮           ⋮               ⋮              ⋮                  ⋮                    ⋮                ⋮                ⋮              ⋮          ⋮             ⋮              ⋮               ⋱\n",
       " 32557 │    27  Private           Assoc-acdm               12  Married-civ-spouse     Tech-support       Wife           White               Female              0             0              38  Unite\n",
       " 32558 │    40  Private           HS-grad                   9  Married-civ-spouse     Machine-op-inspct  Husband        White               Male                0             0              40  Unite\n",
       " 32559 │    58  Private           HS-grad                   9  Widowed                Adm-clerical       Unmarried      White               Female              0             0              40  Unite ⋯\n",
       " 32560 │    22  Private           HS-grad                   9  Never-married          Adm-clerical       Own-child      White               Male                0             0              20  Unite\n",
       " 32561 │    52  Self-emp-inc      HS-grad                   9  Married-civ-spouse     Exec-managerial    Wife           White               Female          15024             0              40  Unite\n",
       "\u001b[36m                                                                                                                                                                        2 columns and 32550 rows omitted\u001b[0m"
      ]
     },
     "execution_count": 18,
     "metadata": {},
     "output_type": "execute_result"
    }
   ],
   "source": [
    "select!(adult, Not(:fnlwgt))"
   ]
  },
  {
   "cell_type": "code",
   "execution_count": 19,
   "id": "da503f64-c84d-4791-98d0-2f5d95b8be9e",
   "metadata": {},
   "outputs": [
    {
     "data": {
      "text/html": [
       "<div class=\"data-frame\"><p>14 rows × 7 columns</p><table class=\"data-frame\"><thead><tr><th></th><th>variable</th><th>mean</th><th>min</th><th>median</th><th>max</th><th>nmissing</th><th>eltype</th></tr><tr><th></th><th title=\"Symbol\">Symbol</th><th title=\"Union{Nothing, Float64}\">Union…</th><th title=\"Any\">Any</th><th title=\"Union{Nothing, Float64}\">Union…</th><th title=\"Any\">Any</th><th title=\"Int64\">Int64</th><th title=\"Type\">Type</th></tr></thead><tbody><tr><th>1</th><td>age</td><td>38.5816</td><td>17</td><td>37.0</td><td>90</td><td>0</td><td>Int64</td></tr><tr><th>2</th><td>workclass</td><td></td><td>Federal-gov</td><td></td><td>Without-pay</td><td>1836</td><td>Union{Missing, String31}</td></tr><tr><th>3</th><td>education</td><td></td><td>10th</td><td></td><td>Some-college</td><td>0</td><td>String15</td></tr><tr><th>4</th><td>education_num</td><td>10.0807</td><td>1</td><td>10.0</td><td>16</td><td>0</td><td>Int64</td></tr><tr><th>5</th><td>marital_status</td><td></td><td>Divorced</td><td></td><td>Widowed</td><td>0</td><td>String31</td></tr><tr><th>6</th><td>occupation</td><td></td><td>Adm-clerical</td><td></td><td>Transport-moving</td><td>1843</td><td>Union{Missing, String31}</td></tr><tr><th>7</th><td>relationship</td><td></td><td>Husband</td><td></td><td>Wife</td><td>0</td><td>String15</td></tr><tr><th>8</th><td>race</td><td></td><td>Amer-Indian-Eskimo</td><td></td><td>White</td><td>0</td><td>String31</td></tr><tr><th>9</th><td>sex</td><td></td><td>Female</td><td></td><td>Male</td><td>0</td><td>String7</td></tr><tr><th>10</th><td>capital_gain</td><td>1077.65</td><td>0</td><td>0.0</td><td>99999</td><td>0</td><td>Int64</td></tr><tr><th>11</th><td>capital_loss</td><td>87.3038</td><td>0</td><td>0.0</td><td>4356</td><td>0</td><td>Int64</td></tr><tr><th>12</th><td>hours_per_week</td><td>40.4375</td><td>1</td><td>40.0</td><td>99</td><td>0</td><td>Int64</td></tr><tr><th>13</th><td>native_country</td><td></td><td>Cambodia</td><td></td><td>Yugoslavia</td><td>583</td><td>Union{Missing, String31}</td></tr><tr><th>14</th><td>target</td><td></td><td>&lt;=50K</td><td></td><td>&gt;50K</td><td>0</td><td>String7</td></tr></tbody></table></div>"
      ],
      "text/latex": [
       "\\begin{tabular}{r|ccccccc}\n",
       "\t& variable & mean & min & median & max & nmissing & eltype\\\\\n",
       "\t\\hline\n",
       "\t& Symbol & Union… & Any & Union… & Any & Int64 & Type\\\\\n",
       "\t\\hline\n",
       "\t1 & age & 38.5816 & 17 & 37.0 & 90 & 0 & Int64 \\\\\n",
       "\t2 & workclass &  & Federal-gov &  & Without-pay & 1836 & Union\\{Missing, String31\\} \\\\\n",
       "\t3 & education &  & 10th &  & Some-college & 0 & String15 \\\\\n",
       "\t4 & education\\_num & 10.0807 & 1 & 10.0 & 16 & 0 & Int64 \\\\\n",
       "\t5 & marital\\_status &  & Divorced &  & Widowed & 0 & String31 \\\\\n",
       "\t6 & occupation &  & Adm-clerical &  & Transport-moving & 1843 & Union\\{Missing, String31\\} \\\\\n",
       "\t7 & relationship &  & Husband &  & Wife & 0 & String15 \\\\\n",
       "\t8 & race &  & Amer-Indian-Eskimo &  & White & 0 & String31 \\\\\n",
       "\t9 & sex &  & Female &  & Male & 0 & String7 \\\\\n",
       "\t10 & capital\\_gain & 1077.65 & 0 & 0.0 & 99999 & 0 & Int64 \\\\\n",
       "\t11 & capital\\_loss & 87.3038 & 0 & 0.0 & 4356 & 0 & Int64 \\\\\n",
       "\t12 & hours\\_per\\_week & 40.4375 & 1 & 40.0 & 99 & 0 & Int64 \\\\\n",
       "\t13 & native\\_country &  & Cambodia &  & Yugoslavia & 583 & Union\\{Missing, String31\\} \\\\\n",
       "\t14 & target &  & <=50K &  & >50K & 0 & String7 \\\\\n",
       "\\end{tabular}\n"
      ],
      "text/plain": [
       "\u001b[1m14×7 DataFrame\u001b[0m\n",
       "\u001b[1m Row \u001b[0m│\u001b[1m variable       \u001b[0m\u001b[1m mean    \u001b[0m\u001b[1m min                \u001b[0m\u001b[1m median \u001b[0m\u001b[1m max              \u001b[0m\u001b[1m nmissing \u001b[0m\u001b[1m eltype                   \u001b[0m\n",
       "\u001b[1m     \u001b[0m│\u001b[90m Symbol         \u001b[0m\u001b[90m Union…  \u001b[0m\u001b[90m Any                \u001b[0m\u001b[90m Union… \u001b[0m\u001b[90m Any              \u001b[0m\u001b[90m Int64    \u001b[0m\u001b[90m Type                     \u001b[0m\n",
       "─────┼───────────────────────────────────────────────────────────────────────────────────────────────────────────\n",
       "   1 │ age             38.5816  17                  37.0    90                       0  Int64\n",
       "   2 │ workclass      \u001b[90m         \u001b[0m Federal-gov        \u001b[90m        \u001b[0m Without-pay           1836  Union{Missing, String31}\n",
       "   3 │ education      \u001b[90m         \u001b[0m 10th               \u001b[90m        \u001b[0m Some-college             0  String15\n",
       "   4 │ education_num   10.0807  1                   10.0    16                       0  Int64\n",
       "   5 │ marital_status \u001b[90m         \u001b[0m Divorced           \u001b[90m        \u001b[0m Widowed                  0  String31\n",
       "   6 │ occupation     \u001b[90m         \u001b[0m Adm-clerical       \u001b[90m        \u001b[0m Transport-moving      1843  Union{Missing, String31}\n",
       "  ⋮  │       ⋮            ⋮             ⋮             ⋮            ⋮             ⋮                 ⋮\n",
       "  10 │ capital_gain    1077.65  0                   0.0     99999                    0  Int64\n",
       "  11 │ capital_loss    87.3038  0                   0.0     4356                     0  Int64\n",
       "  12 │ hours_per_week  40.4375  1                   40.0    99                       0  Int64\n",
       "  13 │ native_country \u001b[90m         \u001b[0m Cambodia           \u001b[90m        \u001b[0m Yugoslavia             583  Union{Missing, String31}\n",
       "  14 │ target         \u001b[90m         \u001b[0m <=50K              \u001b[90m        \u001b[0m >50K                     0  String7\n",
       "\u001b[36m                                                                                                   3 rows omitted\u001b[0m"
      ]
     },
     "execution_count": 19,
     "metadata": {},
     "output_type": "execute_result"
    }
   ],
   "source": [
    "describe(adult)"
   ]
  }
 ],
 "metadata": {
  "kernelspec": {
   "display_name": "Julia 1.6.3",
   "language": "julia",
   "name": "julia-1.6"
  },
  "language_info": {
   "file_extension": ".jl",
   "mimetype": "application/julia",
   "name": "julia",
   "version": "1.6.3"
  }
 },
 "nbformat": 4,
 "nbformat_minor": 5
}
