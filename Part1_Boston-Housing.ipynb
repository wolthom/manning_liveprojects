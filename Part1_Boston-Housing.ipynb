{
 "cells": [
  {
   "cell_type": "code",
   "execution_count": 5,
   "id": "5f4892b3-7636-4f94-b5d5-b65c5e1a3366",
   "metadata": {},
   "outputs": [
    {
     "name": "stderr",
     "output_type": "stream",
     "text": [
      "\u001b[32m\u001b[1m  Activating\u001b[22m\u001b[39m environment at `~/Desktop/manning-liveprojects/hands-on-datascience-with-julia/data-pre-processing/Project.toml`\n"
     ]
    }
   ],
   "source": [
    "using Pkg\n",
    "Pkg.activate(\".\")\n",
    "using DataPreProcessing, DataFrames, CSV"
   ]
  },
  {
   "cell_type": "code",
   "execution_count": 21,
   "id": "a8e4f2cf-3c83-4281-9eef-5ae9df269c2b",
   "metadata": {},
   "outputs": [],
   "source": [
    "# Project constants\n",
    "url = \"https://archive.ics.uci.edu/ml/machine-learning-databases/housing/housing.data\"\n",
    "file_sha1 = UInt8[\n",
    "    0xad, 0xfa, 0x6b, 0x6d, 0xca,\n",
    "    0x24, 0xa6, 0x3f, 0xe1, 0x66,\n",
    "    0xa9, 0xe7, 0xfa, 0x01, 0xce,\n",
    "    0xe4, 0x33, 0x58, 0x57, 0xd1\n",
    "]\n",
    "metadata_url = \"https://archive.ics.uci.edu/ml/machine-learning-databases/housing/housing.names\"\n",
    "\n",
    "# Downloaded files as Vector{UInt8}\n",
    "csv_content = download_file(url, file_sha1)\n",
    "csv_meta = download_file(metadata_url);"
   ]
  },
  {
   "cell_type": "code",
   "execution_count": 22,
   "id": "11e6b455-ac80-421d-b0c2-174763cfd6a9",
   "metadata": {
    "scrolled": true,
    "tags": []
   },
   "outputs": [
    {
     "data": {
      "text/html": [
       "<div class=\"data-frame\"><p>506 rows × 14 columns (omitted printing of 4 columns)</p><table class=\"data-frame\"><thead><tr><th></th><th>CRIM</th><th>ZN</th><th>INDUS</th><th>CHAS</th><th>NOX</th><th>RM</th><th>AGE</th><th>DIS</th><th>RAD</th><th>TAX</th></tr><tr><th></th><th title=\"Float64\">Float64</th><th title=\"Float64\">Float64</th><th title=\"Float64\">Float64</th><th title=\"Int64\">Int64</th><th title=\"Float64\">Float64</th><th title=\"Float64\">Float64</th><th title=\"Float64\">Float64</th><th title=\"Float64\">Float64</th><th title=\"Int64\">Int64</th><th title=\"Float64\">Float64</th></tr></thead><tbody><tr><th>1</th><td>0.00632</td><td>18.0</td><td>2.31</td><td>0</td><td>0.538</td><td>6.575</td><td>65.2</td><td>4.09</td><td>1</td><td>296.0</td></tr><tr><th>2</th><td>0.02731</td><td>0.0</td><td>7.07</td><td>0</td><td>0.469</td><td>6.421</td><td>78.9</td><td>4.9671</td><td>2</td><td>242.0</td></tr><tr><th>3</th><td>0.02729</td><td>0.0</td><td>7.07</td><td>0</td><td>0.469</td><td>7.185</td><td>61.1</td><td>4.9671</td><td>2</td><td>242.0</td></tr><tr><th>4</th><td>0.03237</td><td>0.0</td><td>2.18</td><td>0</td><td>0.458</td><td>6.998</td><td>45.8</td><td>6.0622</td><td>3</td><td>222.0</td></tr><tr><th>5</th><td>0.06905</td><td>0.0</td><td>2.18</td><td>0</td><td>0.458</td><td>7.147</td><td>54.2</td><td>6.0622</td><td>3</td><td>222.0</td></tr><tr><th>6</th><td>0.02985</td><td>0.0</td><td>2.18</td><td>0</td><td>0.458</td><td>6.43</td><td>58.7</td><td>6.0622</td><td>3</td><td>222.0</td></tr><tr><th>7</th><td>0.08829</td><td>12.5</td><td>7.87</td><td>0</td><td>0.524</td><td>6.012</td><td>66.6</td><td>5.5605</td><td>5</td><td>311.0</td></tr><tr><th>8</th><td>0.14455</td><td>12.5</td><td>7.87</td><td>0</td><td>0.524</td><td>6.172</td><td>96.1</td><td>5.9505</td><td>5</td><td>311.0</td></tr><tr><th>9</th><td>0.21124</td><td>12.5</td><td>7.87</td><td>0</td><td>0.524</td><td>5.631</td><td>100.0</td><td>6.0821</td><td>5</td><td>311.0</td></tr><tr><th>10</th><td>0.17004</td><td>12.5</td><td>7.87</td><td>0</td><td>0.524</td><td>6.004</td><td>85.9</td><td>6.5921</td><td>5</td><td>311.0</td></tr><tr><th>11</th><td>0.22489</td><td>12.5</td><td>7.87</td><td>0</td><td>0.524</td><td>6.377</td><td>94.3</td><td>6.3467</td><td>5</td><td>311.0</td></tr><tr><th>12</th><td>0.11747</td><td>12.5</td><td>7.87</td><td>0</td><td>0.524</td><td>6.009</td><td>82.9</td><td>6.2267</td><td>5</td><td>311.0</td></tr><tr><th>13</th><td>0.09378</td><td>12.5</td><td>7.87</td><td>0</td><td>0.524</td><td>5.889</td><td>39.0</td><td>5.4509</td><td>5</td><td>311.0</td></tr><tr><th>14</th><td>0.62976</td><td>0.0</td><td>8.14</td><td>0</td><td>0.538</td><td>5.949</td><td>61.8</td><td>4.7075</td><td>4</td><td>307.0</td></tr><tr><th>15</th><td>0.63796</td><td>0.0</td><td>8.14</td><td>0</td><td>0.538</td><td>6.096</td><td>84.5</td><td>4.4619</td><td>4</td><td>307.0</td></tr><tr><th>16</th><td>0.62739</td><td>0.0</td><td>8.14</td><td>0</td><td>0.538</td><td>5.834</td><td>56.5</td><td>4.4986</td><td>4</td><td>307.0</td></tr><tr><th>17</th><td>1.05393</td><td>0.0</td><td>8.14</td><td>0</td><td>0.538</td><td>5.935</td><td>29.3</td><td>4.4986</td><td>4</td><td>307.0</td></tr><tr><th>18</th><td>0.7842</td><td>0.0</td><td>8.14</td><td>0</td><td>0.538</td><td>5.99</td><td>81.7</td><td>4.2579</td><td>4</td><td>307.0</td></tr><tr><th>19</th><td>0.80271</td><td>0.0</td><td>8.14</td><td>0</td><td>0.538</td><td>5.456</td><td>36.6</td><td>3.7965</td><td>4</td><td>307.0</td></tr><tr><th>20</th><td>0.7258</td><td>0.0</td><td>8.14</td><td>0</td><td>0.538</td><td>5.727</td><td>69.5</td><td>3.7965</td><td>4</td><td>307.0</td></tr><tr><th>21</th><td>1.25179</td><td>0.0</td><td>8.14</td><td>0</td><td>0.538</td><td>5.57</td><td>98.1</td><td>3.7979</td><td>4</td><td>307.0</td></tr><tr><th>22</th><td>0.85204</td><td>0.0</td><td>8.14</td><td>0</td><td>0.538</td><td>5.965</td><td>89.2</td><td>4.0123</td><td>4</td><td>307.0</td></tr><tr><th>23</th><td>1.23247</td><td>0.0</td><td>8.14</td><td>0</td><td>0.538</td><td>6.142</td><td>91.7</td><td>3.9769</td><td>4</td><td>307.0</td></tr><tr><th>24</th><td>0.98843</td><td>0.0</td><td>8.14</td><td>0</td><td>0.538</td><td>5.813</td><td>100.0</td><td>4.0952</td><td>4</td><td>307.0</td></tr><tr><th>25</th><td>0.75026</td><td>0.0</td><td>8.14</td><td>0</td><td>0.538</td><td>5.924</td><td>94.1</td><td>4.3996</td><td>4</td><td>307.0</td></tr><tr><th>26</th><td>0.84054</td><td>0.0</td><td>8.14</td><td>0</td><td>0.538</td><td>5.599</td><td>85.7</td><td>4.4546</td><td>4</td><td>307.0</td></tr><tr><th>27</th><td>0.67191</td><td>0.0</td><td>8.14</td><td>0</td><td>0.538</td><td>5.813</td><td>90.3</td><td>4.682</td><td>4</td><td>307.0</td></tr><tr><th>28</th><td>0.95577</td><td>0.0</td><td>8.14</td><td>0</td><td>0.538</td><td>6.047</td><td>88.8</td><td>4.4534</td><td>4</td><td>307.0</td></tr><tr><th>29</th><td>0.77299</td><td>0.0</td><td>8.14</td><td>0</td><td>0.538</td><td>6.495</td><td>94.4</td><td>4.4547</td><td>4</td><td>307.0</td></tr><tr><th>30</th><td>1.00245</td><td>0.0</td><td>8.14</td><td>0</td><td>0.538</td><td>6.674</td><td>87.3</td><td>4.239</td><td>4</td><td>307.0</td></tr><tr><th>&vellip;</th><td>&vellip;</td><td>&vellip;</td><td>&vellip;</td><td>&vellip;</td><td>&vellip;</td><td>&vellip;</td><td>&vellip;</td><td>&vellip;</td><td>&vellip;</td><td>&vellip;</td></tr></tbody></table></div>"
      ],
      "text/latex": [
       "\\begin{tabular}{r|ccccccccccc}\n",
       "\t& CRIM & ZN & INDUS & CHAS & NOX & RM & AGE & DIS & RAD & TAX & \\\\\n",
       "\t\\hline\n",
       "\t& Float64 & Float64 & Float64 & Int64 & Float64 & Float64 & Float64 & Float64 & Int64 & Float64 & \\\\\n",
       "\t\\hline\n",
       "\t1 & 0.00632 & 18.0 & 2.31 & 0 & 0.538 & 6.575 & 65.2 & 4.09 & 1 & 296.0 & $\\dots$ \\\\\n",
       "\t2 & 0.02731 & 0.0 & 7.07 & 0 & 0.469 & 6.421 & 78.9 & 4.9671 & 2 & 242.0 & $\\dots$ \\\\\n",
       "\t3 & 0.02729 & 0.0 & 7.07 & 0 & 0.469 & 7.185 & 61.1 & 4.9671 & 2 & 242.0 & $\\dots$ \\\\\n",
       "\t4 & 0.03237 & 0.0 & 2.18 & 0 & 0.458 & 6.998 & 45.8 & 6.0622 & 3 & 222.0 & $\\dots$ \\\\\n",
       "\t5 & 0.06905 & 0.0 & 2.18 & 0 & 0.458 & 7.147 & 54.2 & 6.0622 & 3 & 222.0 & $\\dots$ \\\\\n",
       "\t6 & 0.02985 & 0.0 & 2.18 & 0 & 0.458 & 6.43 & 58.7 & 6.0622 & 3 & 222.0 & $\\dots$ \\\\\n",
       "\t7 & 0.08829 & 12.5 & 7.87 & 0 & 0.524 & 6.012 & 66.6 & 5.5605 & 5 & 311.0 & $\\dots$ \\\\\n",
       "\t8 & 0.14455 & 12.5 & 7.87 & 0 & 0.524 & 6.172 & 96.1 & 5.9505 & 5 & 311.0 & $\\dots$ \\\\\n",
       "\t9 & 0.21124 & 12.5 & 7.87 & 0 & 0.524 & 5.631 & 100.0 & 6.0821 & 5 & 311.0 & $\\dots$ \\\\\n",
       "\t10 & 0.17004 & 12.5 & 7.87 & 0 & 0.524 & 6.004 & 85.9 & 6.5921 & 5 & 311.0 & $\\dots$ \\\\\n",
       "\t11 & 0.22489 & 12.5 & 7.87 & 0 & 0.524 & 6.377 & 94.3 & 6.3467 & 5 & 311.0 & $\\dots$ \\\\\n",
       "\t12 & 0.11747 & 12.5 & 7.87 & 0 & 0.524 & 6.009 & 82.9 & 6.2267 & 5 & 311.0 & $\\dots$ \\\\\n",
       "\t13 & 0.09378 & 12.5 & 7.87 & 0 & 0.524 & 5.889 & 39.0 & 5.4509 & 5 & 311.0 & $\\dots$ \\\\\n",
       "\t14 & 0.62976 & 0.0 & 8.14 & 0 & 0.538 & 5.949 & 61.8 & 4.7075 & 4 & 307.0 & $\\dots$ \\\\\n",
       "\t15 & 0.63796 & 0.0 & 8.14 & 0 & 0.538 & 6.096 & 84.5 & 4.4619 & 4 & 307.0 & $\\dots$ \\\\\n",
       "\t16 & 0.62739 & 0.0 & 8.14 & 0 & 0.538 & 5.834 & 56.5 & 4.4986 & 4 & 307.0 & $\\dots$ \\\\\n",
       "\t17 & 1.05393 & 0.0 & 8.14 & 0 & 0.538 & 5.935 & 29.3 & 4.4986 & 4 & 307.0 & $\\dots$ \\\\\n",
       "\t18 & 0.7842 & 0.0 & 8.14 & 0 & 0.538 & 5.99 & 81.7 & 4.2579 & 4 & 307.0 & $\\dots$ \\\\\n",
       "\t19 & 0.80271 & 0.0 & 8.14 & 0 & 0.538 & 5.456 & 36.6 & 3.7965 & 4 & 307.0 & $\\dots$ \\\\\n",
       "\t20 & 0.7258 & 0.0 & 8.14 & 0 & 0.538 & 5.727 & 69.5 & 3.7965 & 4 & 307.0 & $\\dots$ \\\\\n",
       "\t21 & 1.25179 & 0.0 & 8.14 & 0 & 0.538 & 5.57 & 98.1 & 3.7979 & 4 & 307.0 & $\\dots$ \\\\\n",
       "\t22 & 0.85204 & 0.0 & 8.14 & 0 & 0.538 & 5.965 & 89.2 & 4.0123 & 4 & 307.0 & $\\dots$ \\\\\n",
       "\t23 & 1.23247 & 0.0 & 8.14 & 0 & 0.538 & 6.142 & 91.7 & 3.9769 & 4 & 307.0 & $\\dots$ \\\\\n",
       "\t24 & 0.98843 & 0.0 & 8.14 & 0 & 0.538 & 5.813 & 100.0 & 4.0952 & 4 & 307.0 & $\\dots$ \\\\\n",
       "\t25 & 0.75026 & 0.0 & 8.14 & 0 & 0.538 & 5.924 & 94.1 & 4.3996 & 4 & 307.0 & $\\dots$ \\\\\n",
       "\t26 & 0.84054 & 0.0 & 8.14 & 0 & 0.538 & 5.599 & 85.7 & 4.4546 & 4 & 307.0 & $\\dots$ \\\\\n",
       "\t27 & 0.67191 & 0.0 & 8.14 & 0 & 0.538 & 5.813 & 90.3 & 4.682 & 4 & 307.0 & $\\dots$ \\\\\n",
       "\t28 & 0.95577 & 0.0 & 8.14 & 0 & 0.538 & 6.047 & 88.8 & 4.4534 & 4 & 307.0 & $\\dots$ \\\\\n",
       "\t29 & 0.77299 & 0.0 & 8.14 & 0 & 0.538 & 6.495 & 94.4 & 4.4547 & 4 & 307.0 & $\\dots$ \\\\\n",
       "\t30 & 1.00245 & 0.0 & 8.14 & 0 & 0.538 & 6.674 & 87.3 & 4.239 & 4 & 307.0 & $\\dots$ \\\\\n",
       "\t$\\dots$ & $\\dots$ & $\\dots$ & $\\dots$ & $\\dots$ & $\\dots$ & $\\dots$ & $\\dots$ & $\\dots$ & $\\dots$ & $\\dots$ &  \\\\\n",
       "\\end{tabular}\n"
      ],
      "text/plain": [
       "\u001b[1m506×14 DataFrame\u001b[0m\n",
       "\u001b[1m Row \u001b[0m│\u001b[1m CRIM    \u001b[0m\u001b[1m ZN      \u001b[0m\u001b[1m INDUS   \u001b[0m\u001b[1m CHAS  \u001b[0m\u001b[1m NOX     \u001b[0m\u001b[1m RM      \u001b[0m\u001b[1m AGE     \u001b[0m\u001b[1m DIS     \u001b[0m\u001b[1m R\u001b[0m ⋯\n",
       "\u001b[1m     \u001b[0m│\u001b[90m Float64 \u001b[0m\u001b[90m Float64 \u001b[0m\u001b[90m Float64 \u001b[0m\u001b[90m Int64 \u001b[0m\u001b[90m Float64 \u001b[0m\u001b[90m Float64 \u001b[0m\u001b[90m Float64 \u001b[0m\u001b[90m Float64 \u001b[0m\u001b[90m I\u001b[0m ⋯\n",
       "─────┼──────────────────────────────────────────────────────────────────────────\n",
       "   1 │ 0.00632     18.0     2.31      0    0.538    6.575     65.2   4.09      ⋯\n",
       "   2 │ 0.02731      0.0     7.07      0    0.469    6.421     78.9   4.9671\n",
       "   3 │ 0.02729      0.0     7.07      0    0.469    7.185     61.1   4.9671\n",
       "   4 │ 0.03237      0.0     2.18      0    0.458    6.998     45.8   6.0622\n",
       "   5 │ 0.06905      0.0     2.18      0    0.458    7.147     54.2   6.0622    ⋯\n",
       "   6 │ 0.02985      0.0     2.18      0    0.458    6.43      58.7   6.0622\n",
       "   7 │ 0.08829     12.5     7.87      0    0.524    6.012     66.6   5.5605\n",
       "   8 │ 0.14455     12.5     7.87      0    0.524    6.172     96.1   5.9505\n",
       "   9 │ 0.21124     12.5     7.87      0    0.524    5.631    100.0   6.0821    ⋯\n",
       "  10 │ 0.17004     12.5     7.87      0    0.524    6.004     85.9   6.5921\n",
       "  11 │ 0.22489     12.5     7.87      0    0.524    6.377     94.3   6.3467\n",
       "  ⋮  │    ⋮        ⋮        ⋮       ⋮       ⋮        ⋮        ⋮        ⋮       ⋱\n",
       " 497 │ 0.2896       0.0     9.69      0    0.585    5.39      72.9   2.7986\n",
       " 498 │ 0.26838      0.0     9.69      0    0.585    5.794     70.6   2.8927    ⋯\n",
       " 499 │ 0.23912      0.0     9.69      0    0.585    6.019     65.3   2.4091\n",
       " 500 │ 0.17783      0.0     9.69      0    0.585    5.569     73.5   2.3999\n",
       " 501 │ 0.22438      0.0     9.69      0    0.585    6.027     79.7   2.4982\n",
       " 502 │ 0.06263      0.0    11.93      0    0.573    6.593     69.1   2.4786    ⋯\n",
       " 503 │ 0.04527      0.0    11.93      0    0.573    6.12      76.7   2.2875\n",
       " 504 │ 0.06076      0.0    11.93      0    0.573    6.976     91.0   2.1675\n",
       " 505 │ 0.10959      0.0    11.93      0    0.573    6.794     89.3   2.3889\n",
       " 506 │ 0.04741      0.0    11.93      0    0.573    6.03      80.8   2.505     ⋯\n",
       "\u001b[36m                                                  6 columns and 485 rows omitted\u001b[0m"
      ]
     },
     "execution_count": 22,
     "metadata": {},
     "output_type": "execute_result"
    }
   ],
   "source": [
    "# Get DataFrame from CSV file\n",
    "cols = [\"CRIM\", \"ZN\", \"INDUS\", \"CHAS\", \"NOX\", \"RM\", \"AGE\", \"DIS\", \"RAD\", \"TAX\", \"PTRATIO\", \"B\", \"LSTAT\", \"MEDV\", ]\n",
    "df = DataFrame(CSV.File(IOBuffer(csv_content); header=cols, delim=' ', ignorerepeated=true))"
   ]
  },
  {
   "cell_type": "code",
   "execution_count": 11,
   "id": "2a28a20e-e8b5-40c9-a40e-3ba640137e8a",
   "metadata": {},
   "outputs": [
    {
     "name": "stdout",
     "output_type": "stream",
     "text": [
      "\u001b[1m2×3 DataFrame\u001b[0m\n",
      "\u001b[1m Row \u001b[0m│\u001b[1m a     \u001b[0m\u001b[1m b     \u001b[0m\u001b[1m c     \u001b[0m\n",
      "\u001b[1m     \u001b[0m│\u001b[90m Int64 \u001b[0m\u001b[90m Int64 \u001b[0m\u001b[90m Int64 \u001b[0m\n",
      "─────┼─────────────────────\n",
      "   1 │     1      2      3\n",
      "   2 │     4      5      6\n"
     ]
    }
   ],
   "source": []
  }
 ],
 "metadata": {
  "kernelspec": {
   "display_name": "Julia 1.6.3",
   "language": "julia",
   "name": "julia-1.6"
  },
  "language_info": {
   "file_extension": ".jl",
   "mimetype": "application/julia",
   "name": "julia",
   "version": "1.6.3"
  }
 },
 "nbformat": 4,
 "nbformat_minor": 5
}
